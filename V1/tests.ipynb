{
 "cells": [
  {
   "cell_type": "code",
   "execution_count": 10,
   "id": "4b088031",
   "metadata": {},
   "outputs": [],
   "source": [
    "import sqlite3\n",
    "conn = sqlite3.connect(f'Backend\\database\\\\financial_data.db')\n"
   ]
  },
  {
   "cell_type": "code",
   "execution_count": 12,
   "id": "6bb3fd17",
   "metadata": {},
   "outputs": [
    {
     "name": "stdout",
     "output_type": "stream",
     "text": [
      "[('AAPL', 202.38, None, None), ('AMZN', 214.75, None, None), ('GOOGL', 189.13, None, None), ('META', 750.01, None, None), ('MSFT', 524.11, None, None), ('NVDA', 173.72, None, None), ('QQQ', 553.88, None, None), ('SPY', 621.72, None, None), ('TSLA', 302.63, None, None)]\n"
     ]
    }
   ],
   "source": [
    "\n",
    "c = conn.cursor()\n",
    "c.execute('''SELECT symbol, close as price, \n",
    "                   (close - LAG(close) OVER (PARTITION BY symbol ORDER BY date)) as change,\n",
    "                   ((close - LAG(close) OVER (PARTITION BY symbol ORDER BY date)) / LAG(close) OVER (PARTITION BY symbol ORDER BY date)) * 100 as changePercent\n",
    "            FROM market_data \n",
    "            WHERE date = (SELECT MAX(date) FROM market_data)''')\n",
    "print(c.fetchall())\n"
   ]
  },
  {
   "cell_type": "code",
   "execution_count": null,
   "id": "73140449",
   "metadata": {},
   "outputs": [],
   "source": []
  },
  {
   "cell_type": "code",
   "execution_count": 9,
   "id": "f54b161e",
   "metadata": {},
   "outputs": [],
   "source": [
    "conn.close()\n"
   ]
  },
  {
   "cell_type": "code",
   "execution_count": null,
   "id": "cdd47f9a",
   "metadata": {},
   "outputs": [],
   "source": []
  }
 ],
 "metadata": {
  "kernelspec": {
   "display_name": "Python 3",
   "language": "python",
   "name": "python3"
  },
  "language_info": {
   "codemirror_mode": {
    "name": "ipython",
    "version": 3
   },
   "file_extension": ".py",
   "mimetype": "text/x-python",
   "name": "python",
   "nbconvert_exporter": "python",
   "pygments_lexer": "ipython3",
   "version": "3.11.8"
  }
 },
 "nbformat": 4,
 "nbformat_minor": 5
}
